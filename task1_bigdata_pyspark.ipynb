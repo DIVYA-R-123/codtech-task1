{
 "cells": [
  {
   "cell_type": "code",
   "execution_count": null,
   "id": "a331f89d-040b-40bb-b7d6-493f96e6eaf3",
   "metadata": {},
   "outputs": [],
   "source": []
  }
 ],
 "metadata": {
  "kernelspec": {
   "display_name": "",
   "name": ""
  },
  "language_info": {
   "name": ""
  }
 },
 "nbformat": 4,
 "nbformat_minor": 5
}
